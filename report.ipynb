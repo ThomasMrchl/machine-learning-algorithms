{
 "cells": [
  {
   "cell_type": "markdown",
   "metadata": {},
   "source": [
    "## **Machine learning Project**\n",
    "### By **Thomas Marchal** #20220714, **Louis Hislaire** #  and **Jules Rougier** # \n"
   ]
  },
  {
   "cell_type": "markdown",
   "metadata": {},
   "source": [
    "Step 1:\n",
    "We choose the Dataset number D : House_data\n"
   ]
  },
  {
   "cell_type": "markdown",
   "metadata": {},
   "source": [
    "Step 2: Scenario / About Dataset -> Jules"
   ]
  },
  {
   "cell_type": "markdown",
   "metadata": {},
   "source": [
    "Step 3: Data Loading -> Thomas\n"
   ]
  },
  {
   "cell_type": "markdown",
   "metadata": {},
   "source": [
    "Step 4: Data Wrangling or Data Pre-processing -> Louis"
   ]
  },
  {
   "cell_type": "markdown",
   "metadata": {},
   "source": [
    "Step 5: Exploratory Data Analysis -> Thomas"
   ]
  },
  {
   "cell_type": "markdown",
   "metadata": {},
   "source": [
    "Step 6: Model Developement (Apply ML algorithms)\n",
    "BONUS if we choose to use 2ML algorithms (see pdf) 1 normal + 2 dans les Bonus\n",
    "Thomas/Louis/Jules"
   ]
  },
  {
   "cell_type": "markdown",
   "metadata": {},
   "source": [
    "Step 7: Model Evaluation, Implement and compare different metrics to evaluate the quality of the model.\n",
    "Chaque model Thomas/Louis/Jules"
   ]
  },
  {
   "cell_type": "markdown",
   "metadata": {},
   "source": [
    "Step 8: Model Refinement -> Jules"
   ]
  },
  {
   "cell_type": "markdown",
   "metadata": {},
   "source": [
    "Harmoniser le doc pour le rendu"
   ]
  }
 ],
 "metadata": {
  "language_info": {
   "name": "python"
  }
 },
 "nbformat": 4,
 "nbformat_minor": 2
}
