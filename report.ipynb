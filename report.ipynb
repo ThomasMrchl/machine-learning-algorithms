{
 "cells": [
  {
   "cell_type": "markdown",
   "metadata": {},
   "source": [
    "## **Machine learning Project**\n",
    "### By **Thomas Marchal** #20220714, **Louis Hislaire** #  and **Jules Rougier** #20220748 \n"
   ]
  },
  {
   "cell_type": "markdown",
   "metadata": {},
   "source": [
    "Step 1:\n",
    "We choose the Dataset number D : House_data\n"
   ]
  },
  {
   "cell_type": "markdown",
   "metadata": {},
   "source": [
    "Step 2: Scenario / About Dataset \n",
    "\n",
    "In this project, we chose to study a dataset about housing data. That includes numerical informations about the house (size, age, rooms, etc...), General information such as if the house is waterfront and of course the price of the house.\n",
    "Using this information we can guess a few possible scenarios and choose one to study for the project.\n",
    " \n",
    "\n",
    "<h5 style=\"margin-bottom: 0;\"><b>Explanation:</b></h5>\n",
    "<p>The target variable in this dataset is most likely price, which is a continuous numeric value. Since regression is used to predict continuous values, this points to a regression problem.</p>\n",
    "\n",
    "<p>However, clustering could also be relevant if the goal is to group similar properties together based on features such as sqft_living, bedrooms, and bathrooms, without focusing directly on predicting price. In that case, clustering would aim to identify groups or clusters of similar houses based on these characteristics.</p>\n",
    "\n",
    "<h5 style=\"margin-bottom: 0;\"><b>Conclusion:</b></h5>\n",
    "<p>The project could tackle a regression problem if the goal is to predict price, or a clustering problem if the goal is to group similar properties based on their features. In this project, we will be focusing on price estimation using regression techniques.</p>\n"
   ]
  },
  {
   "cell_type": "markdown",
   "metadata": {},
   "source": [
    "Step 3: Data Loading -> Thomas\n"
   ]
  },
  {
   "cell_type": "code",
   "execution_count": null,
   "metadata": {},
   "outputs": [],
   "source": [
    "# Load required librairies\n",
    "import numpy as np\n",
    "import pandas as pd"
   ]
  },
  {
   "cell_type": "code",
   "execution_count": null,
   "metadata": {},
   "outputs": [],
   "source": [
    "#Load the data\n",
    "df = pd.read_csv(\"data/House_data.csv\")\n",
    "df.head()"
   ]
  },
  {
   "cell_type": "markdown",
   "metadata": {},
   "source": [
    "Step 4: Data Wrangling or Data Pre-processing -> Louis"
   ]
  },
  {
   "cell_type": "markdown",
   "metadata": {},
   "source": [
    "Step 5: Exploratory Data Analysis -> Thomas"
   ]
  },
  {
   "cell_type": "markdown",
   "metadata": {},
   "source": [
    "Step 6: Model Developement (Apply ML algorithms)\n",
    "BONUS if we choose to use 2ML algorithms (see pdf) 1 normal + 2 dans les Bonus\n",
    "Thomas/Louis/Jules"
   ]
  },
  {
   "cell_type": "markdown",
   "metadata": {},
   "source": [
    "Step 7: Model Evaluation, Implement and compare different metrics to evaluate the quality of the model.\n",
    "Chaque model Thomas/Louis/Jules"
   ]
  },
  {
   "cell_type": "markdown",
   "metadata": {},
   "source": [
    "Step 8: Model Refinement -> Jules"
   ]
  },
  {
   "cell_type": "markdown",
   "metadata": {},
   "source": [
    "Harmoniser le doc pour le rendu"
   ]
  }
 ],
 "metadata": {
  "kernelspec": {
   "display_name": "Python 3",
   "language": "python",
   "name": "python3"
  },
  "language_info": {
   "codemirror_mode": {
    "name": "ipython",
    "version": 3
   },
   "file_extension": ".py",
   "mimetype": "text/x-python",
   "name": "python",
   "nbconvert_exporter": "python",
   "pygments_lexer": "ipython3",
   "version": "3.12.1"
  }
 },
 "nbformat": 4,
 "nbformat_minor": 2
}
